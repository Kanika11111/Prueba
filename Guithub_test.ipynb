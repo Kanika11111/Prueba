{
 "cells": [
  {
   "cell_type": "code",
   "execution_count": null,
   "id": "8428d44e",
   "metadata": {},
   "outputs": [],
   "source": []
  },
  {
   "cell_type": "markdown",
   "id": "a2b921cc",
   "metadata": {},
   "source": [
    "This file has been created to test out guithub"
   ]
  },
  {
   "cell_type": "code",
   "execution_count": 1,
   "id": "affc0d52",
   "metadata": {},
   "outputs": [
    {
     "name": "stdout",
     "output_type": "stream",
     "text": [
      "This file has been created to test out guithub\n"
     ]
    }
   ],
   "source": [
    "print(\"This file has been created to test out guithub\")"
   ]
  }
 ],
 "metadata": {
  "kernelspec": {
   "display_name": "Basic",
   "language": "python",
   "name": "python3"
  },
  "language_info": {
   "codemirror_mode": {
    "name": "ipython",
    "version": 3
   },
   "file_extension": ".py",
   "mimetype": "text/x-python",
   "name": "python",
   "nbconvert_exporter": "python",
   "pygments_lexer": "ipython3",
   "version": "3.12.9"
  }
 },
 "nbformat": 4,
 "nbformat_minor": 5
}
